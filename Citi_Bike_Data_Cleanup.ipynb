{
 "cells": [
  {
   "cell_type": "code",
   "execution_count": 1,
   "metadata": {},
   "outputs": [],
   "source": [
    "# Dependencies and Setup\n",
    "import pandas as pd\n",
    "import numpy as np\n",
    "\n",
    "# Files to Load\n",
    "jan2019_csv = \"Raw_Data/201901-citibike-tripdata.csv\"\n",
    "feb2019_csv = \"Raw_Data/201902-citibike-tripdata.csv\"\n",
    "mar2019_csv = \"Raw_Data/201903-citibike-tripdata.csv\"\n",
    "apr2019_csv = \"Raw_Data/201904-citibike-tripdata.csv\"\n",
    "may2019_csv = \"Raw_Data/201905-citibike-tripdata.csv\"\n",
    "jun2019_csv = \"Raw_Data/201906-citibike-tripdata.csv\"\n",
    "jul2019_csv = \"Raw_Data/201907-citibike-tripdata.csv\"\n",
    "aug2019_csv = \"Raw_Data/201908-citibike-tripdata.csv\""
   ]
  },
  {
   "cell_type": "code",
   "execution_count": 2,
   "metadata": {},
   "outputs": [],
   "source": [
    "# Read Data File and store into Pandas Data Frames\n",
    "jan2019 = pd.read_csv(jan2019_csv)\n",
    "feb2019 = pd.read_csv(feb2019_csv)\n",
    "mar2019 = pd.read_csv(mar2019_csv)\n",
    "apr2019 = pd.read_csv(apr2019_csv)\n",
    "may2019 = pd.read_csv(may2019_csv)\n",
    "jun2019 = pd.read_csv(jun2019_csv)\n",
    "jul2019 = pd.read_csv(jul2019_csv)\n",
    "aug2019 = pd.read_csv(aug2019_csv)"
   ]
  },
  {
   "cell_type": "code",
   "execution_count": 4,
   "metadata": {},
   "outputs": [],
   "source": [
    "# Combine all monthly DataFrames to One for Year\n",
    "citi_bike_2019_data = pd.concat([jan2019, feb2019, mar2019, apr2019, may2019, jun2019, jul2019, aug2019])"
   ]
  },
  {
   "cell_type": "raw",
   "metadata": {},
   "source": [
    "display(citi_bike_2019_data.head())"
   ]
  },
  {
   "cell_type": "code",
   "execution_count": 5,
   "metadata": {},
   "outputs": [],
   "source": [
    "# Export file as a CSV\n",
    "citi_bike_2019_data.to_csv(\"citi_bike_2019_data.csv\")"
   ]
  },
  {
   "cell_type": "code",
   "execution_count": null,
   "metadata": {},
   "outputs": [],
   "source": []
  }
 ],
 "metadata": {
  "kernelspec": {
   "display_name": "Python 3",
   "language": "python",
   "name": "python3"
  },
  "language_info": {
   "codemirror_mode": {
    "name": "ipython",
    "version": 3
   },
   "file_extension": ".py",
   "mimetype": "text/x-python",
   "name": "python",
   "nbconvert_exporter": "python",
   "pygments_lexer": "ipython3",
   "version": "3.7.1"
  }
 },
 "nbformat": 4,
 "nbformat_minor": 2
}
